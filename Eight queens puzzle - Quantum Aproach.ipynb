{
  "cells": [
    {
      "cell_type": "markdown",
      "metadata": {
        "id": "view-in-github",
        "colab_type": "text"
      },
      "source": [
        "<a href=\"https://colab.research.google.com/github/brunomaso1/proyectos-computacion-cuantica/blob/master/Eight%20queens%20puzzle%20-%20Quantum%20Aproach.ipynb\" target=\"_parent\"><img src=\"https://colab.research.google.com/assets/colab-badge.svg\" alt=\"Open In Colab\"/></a>"
      ]
    },
    {
      "cell_type": "markdown",
      "id": "f3d3ce23-7666-482b-a129-76e45c1f1017",
      "metadata": {
        "id": "f3d3ce23-7666-482b-a129-76e45c1f1017"
      },
      "source": [
        "# EIGHT QUEENS PUZZLE\n",
        "(Puzle de ocho reinas)\n",
        "\n",
        "Ingeniería Avanzada de Software - Computación Cuántica - FING - UDELAR"
      ]
    },
    {
      "cell_type": "markdown",
      "id": "843fb662-ba7c-460d-a98c-2e532faba1cb",
      "metadata": {
        "tags": [],
        "id": "843fb662-ba7c-460d-a98c-2e532faba1cb"
      },
      "source": [
        "## Introducción\n",
        "\n",
        "Este trabajo se encuentra en el marco de las jornadas de \"Advanced Ibero-American School on Software Engineering\" del año 2023 realizadas en Montevideo Uruguay.\n",
        "Específicamente se trata de un trabajo en el módulo de Computación Cuántica de dicho seminario.\n",
        "\n",
        "Como objetivo principal, se propone resolver un problema conocido en el área de Ciencias de la Computación pero con un enfoque cúantico.\n",
        "\n",
        "En la siguiente sección se describe el problema, conocido como \"Eight queens puzzle\" en el área de informática.\n",
        "En las próximas secciones se discute el enfoque de la solución así como también se brinda una posible implementación de la misma."
      ]
    },
    {
      "cell_type": "markdown",
      "id": "26bc61cf-58bc-40d3-8652-96e50f227d9d",
      "metadata": {
        "id": "26bc61cf-58bc-40d3-8652-96e50f227d9d"
      },
      "source": [
        "### Problema\n",
        "\n",
        "> Disponemos de un tablero de ajedrez bpico de 8x8, y necesitamos colocar una reina en cada una de las columnas, sin embargo, queremos colocarlas de forma que no se maten entre ellas ¿existe alguna solución? ¿cuáles?\n",
        "\n",
        "> [PONER IMAGEN ACA]\n",
        "\n",
        "> Elegiremos abordar este problema de una dos formas:\n",
        "> - Enfoque puramente cuántco: diseñar un circuito/programa mediante el cual, obtener soluciones válidas para la disposición de las reinas en el tablero. Esta opción se documentará de la siguiente manera:\n",
        "> 1. Discusión sobre las posibles estrategias que podrían seguirse para resolver el problema, describiendo la idea del algoritmo a aplicar.\n",
        "> 2. Representación del dominio del problema en el ámbito del dominio cuántco: Cómo vamos a representar “el tablero” y “las reinas”.\n",
        "> 3. Diseño, mediante Quirk, del algoritmo que coloca las reinas en el tablero sin que estas “se maten”.\n",
        "> 4. Codificación, mediante IBM Quantum Lab, del código en Qiskit que nos permite resolver el problema planteado.\n",
        "> - Enfoque híbrido: podemos utlizar la potencia de la computación cuántca para\n",
        "crear números aleatorios de forma que mediante un circuito/programa,generemos soluciones aleatorias de “posibles configuraciones de reinas”, para acto seguido, chequear mediante sofware clásico, si la configuración generada es válida. Esta opción se documentará de la siguiente manera:\n",
        "> 1. Discusión sobre la estructura del sistema híbrido final, teniendo en cuenta que todo se desarrollará en Python y Quirk (teniendo en cuenta que Quirk es una extensión de Python para circuitos cuánticos), así como las posibles estrategias que podrían seguirse para resolver el problema, describiendo la idea del algoritmo a aplicar.\n",
        "> 2. Representación del dominio del problema en el ámbito del dominio cuántco: Cómo vamos a representar “el tablero” y “las reinas”.\n",
        "> 3. Codificación, mediante IBM Quantum Lab, del código Python y Qiskit que nos permite resolver el problema planteado."
      ]
    },
    {
      "cell_type": "markdown",
      "id": "ff736762-dba0-4042-8047-e2c9f717fc65",
      "metadata": {
        "id": "ff736762-dba0-4042-8047-e2c9f717fc65"
      },
      "source": [
        "## Puzzle de ocho reinas\n",
        "\n",
        "Introducción (cuando surge, etc.)\n",
        "Hablar de las posibles soluciones (matematicamente).\n",
        "Hablar de P vs NP.\n"
      ]
    },
    {
      "cell_type": "markdown",
      "id": "bd5199b8-b031-4494-8e6e-90c48e3254f2",
      "metadata": {
        "id": "bd5199b8-b031-4494-8e6e-90c48e3254f2"
      },
      "source": [
        "## Enfoque híbrido\n",
        "\n",
        "Se decidió utilizar un enfoque híbrido para solucionar el problema ya que no se tiene experiencia sobre algorítmos cúanticos, por lo que el enfoque híbrido es especial para aprovechar el conocimiento en computación clásica e introducir una componente cúantica en la solución, con el objetivo de profundizar más en el tema."
      ]
    },
    {
      "cell_type": "markdown",
      "id": "0a2ec12f-94f6-43d2-9fd8-99aa408192c6",
      "metadata": {
        "id": "0a2ec12f-94f6-43d2-9fd8-99aa408192c6"
      },
      "source": [
        "### Estructura de la solución\n",
        "\n",
        "Para solucionar este problema, se utiliza un enfoque de algorimos de búsquedas, donde el objetivo es encontrar soluciones mediante la prueba y error de los distintos estados posibles (o sea, buscar la solución entre el conjunto de estados posibles).\n",
        "\n",
        "Se plantea la siguiente especificación del problema para el caso del puzle de ocho reinas:\n",
        "1. Estado inicial: El tablero de ajedrez con las 8 reinas dispuestas en el mismo.\n",
        "2. Función sucesora: Mover una reina a un espacio libre en el tablero.\n",
        "3. Test objetivo: Que ninguna reina se esté atacando.\n",
        "\n",
        "[Pseudocodigo]"
      ]
    },
    {
      "cell_type": "markdown",
      "id": "dac82164-b3c9-4f9e-8790-5a4d1ba90ceb",
      "metadata": {
        "id": "dac82164-b3c9-4f9e-8790-5a4d1ba90ceb"
      },
      "source": [
        "### Representación del dominio\n",
        "\n",
        "La representación original del dominio (con un tablero de 64 lugares) da lugar a ... posibilidades, de las cuales muchas no son consideradas correctas o trivialmente incorrectas, como la siguiente figura por ejemplo:\n",
        "\n",
        "[Insertar figura donde todas las reinas están juntas.]\n",
        "\n",
        "Si en lugar de simplemente buscar la solución en el espacio de las .... , podemos utilizar mejores representaciones de los datos para reducir la cantidad de posibles soluciones.\n",
        "\n",
        "Una representación posible, es simplemente poner la restricción de que las reinas no pueden compartir la misma columna. Esto reduce las posibilidades en ... , dejando ... soluciones posibles.\n",
        "\n",
        "Esta representación se puede fácilmente codificar utilizando una lista de números, donde cada número indica la posición de la columna que dicha reina ocupa en el tablero. O sea, en una estructura de lista, las posiciones (índices) serían las filas del tablero, y el valor dentro de dicha lista sería la columna donde se encuentra dicha reina. Como se puede ver en esta figura:\n",
        "\n",
        "[Poner una figura de esto]\n",
        "\n",
        "Utilizando esta representación, no es necesaria codificar la restricción de que cada reina ocupe una columna, esta información está intrínsicamente codificada en la estructura si utilizamos los números naturales del 1 al 8 sin repetición.\n",
        "\n",
        "La única restricción que deberíamos chequear es en las diagonales. Con esta estructura las reinas aún se pueden atacar en las diagonales, como se muestra en la siguiente figura:\n",
        "\n",
        "[poner figura de reinas atacandose en diagnoales]\n",
        "\n",
        "Existe una forma fácil de chequear esta restricción utilizando la estructura de lista, y esto es:\n",
        "- Si la fila y columna de las dos reinas suman lo mismo, las damas se encuentran en la misma diagonal.\n",
        "- Si la diferencia entre la fila y columna entre dos reinas son lo mismo, también se encuentran en la misma diagonal.\n",
        "\n",
        "Esto podemos verlo ejemplificado en la siguiente figura:\n",
        "\n",
        "[Poner dicha figura]\n",
        "\n",
        "Como conclusión, nuestro dominio específicamente quedaría de la siguiente forma:\n",
        "1. Estado inicial: Lista de número generada de forma aleatoria, de modo que ningun número se repita.\n",
        "2. Función sucesora: Permutar uno de dichos números dentro de la lista.\n",
        "3. Test objetivo: Chequear que ninguna dama se esté atacando en las diagnoales."
      ]
    },
    {
      "cell_type": "markdown",
      "id": "4bc8f3a3-d186-41e1-9778-f1b4d309f0e0",
      "metadata": {
        "id": "4bc8f3a3-d186-41e1-9778-f1b4d309f0e0"
      },
      "source": [
        "### Codificación"
      ]
    },
    {
      "cell_type": "markdown",
      "id": "3adda4fe-942e-4d83-acb7-3e93715d1dba",
      "metadata": {
        "id": "3adda4fe-942e-4d83-acb7-3e93715d1dba"
      },
      "source": [
        "#### Algoritmo clásico"
      ]
    },
    {
      "cell_type": "code",
      "execution_count": null,
      "id": "5a1abcbe-7e9a-4d08-9dd5-19b82ce75efb",
      "metadata": {
        "id": "5a1abcbe-7e9a-4d08-9dd5-19b82ce75efb"
      },
      "outputs": [],
      "source": [
        "def estadoInicial():\n",
        "    # Crear estado inicial mediante.\n",
        "    return null;"
      ]
    },
    {
      "cell_type": "markdown",
      "id": "a6ba52c5-2a3e-400b-be36-4711af07db03",
      "metadata": {
        "id": "a6ba52c5-2a3e-400b-be36-4711af07db03"
      },
      "source": [
        "#### Algoritmo híbrido\n",
        "\n",
        "Test"
      ]
    },
    {
      "cell_type": "markdown",
      "id": "5c63ea19-9ba4-4297-a375-2d3cd916e4bd",
      "metadata": {
        "id": "5c63ea19-9ba4-4297-a375-2d3cd916e4bd"
      },
      "source": [
        "## Conclusiones finales\n",
        "\n",
        "### Posibles mejoras\n",
        "\n",
        "Como un\n",
        "\n",
        "###"
      ]
    },
    {
      "cell_type": "markdown",
      "id": "0c275ca5-d346-4730-bd5e-846aa9cb32d5",
      "metadata": {
        "id": "0c275ca5-d346-4730-bd5e-846aa9cb32d5"
      },
      "source": [
        "## Referencias\n",
        "\n",
        "1. Numberphile. (2015, August 21). The 8 Queen Problem - Numberphile [Video]. YouTube. https://www.youtube.com/watch?v=jPcBU0Z2Hj8\n",
        "2. Derivando. (2017, September 29). El problema de las 1000 reinas. ¡Un millón de dólares en juego! [Video]. YouTube. https://www.youtube.com/watch?v=WOZ4wDt-iYA\n",
        "3. Artificial Intelligence: A Modern Approach (3rd Edition) by Stuart Russell and Peter Norvig, chapter 4.1 (Local Search Algorithms and Optimization Problems)."
      ]
    },
    {
      "cell_type": "code",
      "execution_count": null,
      "id": "880cc01f-10e9-4a08-b8f6-8fb453686776",
      "metadata": {
        "tags": [],
        "id": "880cc01f-10e9-4a08-b8f6-8fb453686776"
      },
      "outputs": [],
      "source": [
        "# Importing standard Qiskit libraries\n",
        "from qiskit import QuantumCircuit, transpile\n",
        "from qiskit.tools.jupyter import *\n",
        "from qiskit.visualization import *\n",
        "from ibm_quantum_widgets import *\n",
        "from qiskit_aer import AerSimulator\n",
        "\n",
        "# qiskit-ibmq-provider has been deprecated.\n",
        "# Please see the Migration Guides in https://ibm.biz/provider_migration_guide for more detail.\n",
        "from qiskit_ibm_runtime import QiskitRuntimeService, Sampler, Estimator, Session, Options\n",
        "\n",
        "# Loading your IBM Quantum account(s)\n",
        "service = QiskitRuntimeService(channel=\"ibm_quantum\")\n",
        "\n",
        "# Invoke a primitive inside a session. For more details see https://qiskit.org/documentation/partners/qiskit_ibm_runtime/tutorials.html\n",
        "# with Session(backend=service.backend(\"ibmq_qasm_simulator\")):\n",
        "#     result = Sampler().run(circuits).result()"
      ]
    },
    {
      "cell_type": "code",
      "execution_count": null,
      "id": "9ac9e67e-8cf8-4c92-9662-1dc14d6560c3",
      "metadata": {
        "id": "9ac9e67e-8cf8-4c92-9662-1dc14d6560c3"
      },
      "outputs": [],
      "source": []
    }
  ],
  "metadata": {
    "kernelspec": {
      "display_name": "Python 3 (ipykernel)",
      "language": "python",
      "name": "python3"
    },
    "language_info": {
      "codemirror_mode": {
        "name": "ipython",
        "version": 3
      },
      "file_extension": ".py",
      "mimetype": "text/x-python",
      "name": "python",
      "nbconvert_exporter": "python",
      "pygments_lexer": "ipython3",
      "version": "3.10.8"
    },
    "colab": {
      "provenance": [],
      "include_colab_link": true
    }
  },
  "nbformat": 4,
  "nbformat_minor": 5
}